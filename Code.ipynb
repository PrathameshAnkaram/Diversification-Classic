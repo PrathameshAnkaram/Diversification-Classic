{
 "cells": [
  {
   "cell_type": "code",
   "execution_count": 12,
   "id": "2354fb4a",
   "metadata": {},
   "outputs": [],
   "source": [
    "import pandas as pd \n",
    "\n"
   ]
  },
  {
   "cell_type": "code",
   "execution_count": 2,
   "id": "2ef44937",
   "metadata": {},
   "outputs": [],
   "source": [
    "data = pd.read_csv(\"/Users/prathameshankaram/Desktop/Project2.csv\")"
   ]
  },
  {
   "cell_type": "code",
   "execution_count": 3,
   "id": "fa3223a7",
   "metadata": {},
   "outputs": [
    {
     "data": {
      "text/plain": [
       "(     Date        XOM       DRI   MKT    RF\n",
       " 0  1/3/05   4.375902 -0.177035  5.57  0.12\n",
       " 1  2/1/05 -13.241701 -3.201101 -3.65  0.11\n",
       " 2  3/1/05  -1.491942 -7.527938 -2.35  0.11\n",
       " 3  4/1/05   4.208550  8.926722  0.28  0.14\n",
       " 4  5/2/05   4.488743 -5.181345  2.65  0.14,\n",
       " Index(['Date', 'XOM', 'DRI', 'MKT', 'RF'], dtype='object'))"
      ]
     },
     "execution_count": 3,
     "metadata": {},
     "output_type": "execute_result"
    }
   ],
   "source": [
    "data.head(), data.columns"
   ]
  },
  {
   "cell_type": "code",
   "execution_count": 4,
   "id": "4211c8f9",
   "metadata": {},
   "outputs": [
    {
     "name": "stdout",
     "output_type": "stream",
     "text": [
      "0.9543722582833337\n"
     ]
    },
    {
     "data": {
      "text/plain": [
       "(None,\n",
       " 10.049779345834818,\n",
       " 1.422620666283333,\n",
       " 10.630195656869258,\n",
       " 0.5193835641540854)"
      ]
     },
     "execution_count": 4,
     "metadata": {},
     "output_type": "execute_result"
    }
   ],
   "source": [
    "# Calculating the average return and standard deviation for Exxon Mobil (XOM) and Darden Restaurants (DRI)\n",
    "average_xom = data['XOM'].mean()\n",
    "std_dev_xom = data['XOM'].std()\n",
    "average_dri = data['DRI'].mean()\n",
    "std_dev_dri = data['DRI'].std()\n",
    "\n",
    "# Calculating the correlation between XOM and DRI\n",
    "correlation_xom_dri = data['XOM'].corr(data['DRI'])\n",
    "\n",
    "print(average_xom), (std_dev_xom), (average_dri), (std_dev_dri), (correlation_xom_dri)\n"
   ]
  },
  {
   "cell_type": "code",
   "execution_count": 5,
   "id": "9ea920f8",
   "metadata": {},
   "outputs": [
    {
     "name": "stdout",
     "output_type": "stream",
     "text": [
      "0.04330127018922194\n"
     ]
    },
    {
     "data": {
      "text/plain": [
       "(None,\n",
       " 0.005079563486636896,\n",
       " 0.9956913213017788,\n",
       " 0.006762642621738448,\n",
       " 0.9959265782505856)"
      ]
     },
     "execution_count": 5,
     "metadata": {},
     "output_type": "execute_result"
    }
   ],
   "source": [
    "import numpy as np\n",
    "\n",
    "# Convert annual target standard deviation to monthly\n",
    "annual_target_std_dev = 15\n",
    "monthly_target_std_dev = annual_target_std_dev / np.sqrt(12) / 100  # convert percentage to decimal\n",
    "\n",
    "# Average monthly risk-free rate\n",
    "average_rf = data['RF'].mean() / 100  # convert percentage to decimal\n",
    "\n",
    "# Calculate the weight of the stock in the portfolio to meet the target std deviation\n",
    "weight_xom = monthly_target_std_dev / std_dev_xom\n",
    "weight_dri = monthly_target_std_dev / std_dev_dri\n",
    "\n",
    "# Calculate the expected return of the portfolio\n",
    "expected_return_xom = weight_xom * average_xom + (1 - weight_xom) * average_rf\n",
    "expected_return_dri = weight_dri * average_dri + (1 - weight_dri) * average_rf\n",
    "\n",
    "# Calculate the weight of the risk-free asset in each portfolio\n",
    "weight_rf_xom = 1 - weight_xom\n",
    "weight_rf_dri = 1 - weight_dri\n",
    "\n",
    "print(monthly_target_std_dev), (expected_return_xom), (weight_rf_xom), (expected_return_dri), (weight_rf_dri)\n"
   ]
  },
  {
   "cell_type": "code",
   "execution_count": 6,
   "id": "a4c50af4",
   "metadata": {},
   "outputs": [
    {
     "name": "stdout",
     "output_type": "stream",
     "text": [
      "1.0480219398833337\n"
     ]
    },
    {
     "data": {
      "text/plain": [
       "(None, 9.322790835760626, 0.11231081890203541)"
      ]
     },
     "execution_count": 6,
     "metadata": {},
     "output_type": "execute_result"
    }
   ],
   "source": [
    "# Define the weights for Exxon and Darden in the portfolio\n",
    "weight_xom = 0.8\n",
    "weight_dri = 0.2\n",
    "\n",
    "# Calculate the average return of the portfolio\n",
    "portfolio_avg_return = (weight_xom * average_xom) + (weight_dri * average_dri)\n",
    "\n",
    "# Calculate the standard deviation of the portfolio\n",
    "portfolio_std_dev = np.sqrt(\n",
    "    (weight_xom ** 2 * std_dev_xom ** 2) +\n",
    "    (weight_dri ** 2 * std_dev_dri ** 2) +\n",
    "    (2 * weight_xom * weight_dri * std_dev_xom * std_dev_dri * correlation_xom_dri)\n",
    ")\n",
    "\n",
    "# Calculate the Sharpe Ratio of the portfolio\n",
    "sharpe_ratio_portfolio = (portfolio_avg_return - average_rf) / portfolio_std_dev\n",
    "\n",
    "print(portfolio_avg_return), (portfolio_std_dev), (sharpe_ratio_portfolio)\n"
   ]
  },
  {
   "cell_type": "code",
   "execution_count": 7,
   "id": "93df09b0",
   "metadata": {},
   "outputs": [
    {
     "name": "stdout",
     "output_type": "stream",
     "text": [
      "1.0603088461430916\n"
     ]
    },
    {
     "data": {
      "text/plain": [
       "(None, 0.6949438064673202, 1.1888071174057981, 0.7790459250087617)"
      ]
     },
     "execution_count": 7,
     "metadata": {},
     "output_type": "execute_result"
    }
   ],
   "source": [
    "# Calculate the excess returns for XOM, DRI, and the Market\n",
    "data['Excess_XOM'] = data['XOM'] - data['RF']\n",
    "data['Excess_DRI'] = data['DRI'] - data['RF']\n",
    "data['Excess_MKT'] = data['MKT'] - data['RF']\n",
    "\n",
    "# Calculate the covariance of XOM and DRI with the Market\n",
    "cov_xom_mkt = data['Excess_XOM'].cov(data['Excess_MKT'])\n",
    "cov_dri_mkt = data['Excess_DRI'].cov(data['Excess_MKT'])\n",
    "\n",
    "# Calculate the variance of the Market\n",
    "var_mkt = data['Excess_MKT'].var()\n",
    "\n",
    "# Calculate beta for XOM and DRI\n",
    "beta_xom = cov_xom_mkt / var_mkt\n",
    "beta_dri = cov_dri_mkt / var_mkt\n",
    "\n",
    "# Calculate the expected returns according to CAPM\n",
    "capm_expected_return_xom = average_rf + beta_xom * (data['Excess_MKT'].mean())\n",
    "capm_expected_return_dri = average_rf + beta_dri * (data['Excess_MKT'].mean())\n",
    "\n",
    "print(beta_xom), (capm_expected_return_xom), (beta_dri), (capm_expected_return_dri)\n"
   ]
  },
  {
   "cell_type": "code",
   "execution_count": 8,
   "id": "7c051f49",
   "metadata": {},
   "outputs": [
    {
     "name": "stdout",
     "output_type": "stream",
     "text": [
      "9.469444498437767\n"
     ]
    }
   ],
   "source": [
    "# Updated correlation\n",
    "correlation_xom_dri_updated = 0.6\n",
    "\n",
    "# Calculate the standard deviation of the portfolio with updated correlation\n",
    "portfolio_std_dev_updated = np.sqrt(\n",
    "    (weight_xom ** 2 * std_dev_xom ** 2) +\n",
    "    (weight_dri ** 2 * std_dev_dri ** 2) +\n",
    "    (2 * weight_xom * weight_dri * std_dev_xom * std_dev_dri * correlation_xom_dri_updated)\n",
    ")\n",
    "\n",
    "print(portfolio_std_dev_updated)\n"
   ]
  },
  {
   "cell_type": "code",
   "execution_count": 9,
   "id": "6ef0da82",
   "metadata": {},
   "outputs": [
    {
     "name": "stdout",
     "output_type": "stream",
     "text": [
      "                            OLS Regression Results                            \n",
      "==============================================================================\n",
      "Dep. Variable:             Excess_XOM   R-squared:                       0.350\n",
      "Model:                            OLS   Adj. R-squared:                  0.339\n",
      "Method:                 Least Squares   F-statistic:                     31.25\n",
      "Date:                Tue, 30 Apr 2024   Prob (F-statistic):           6.39e-07\n",
      "Time:                        01:55:51   Log-Likelihood:                -210.26\n",
      "No. Observations:                  60   AIC:                             424.5\n",
      "Df Residuals:                      58   BIC:                             428.7\n",
      "Df Model:                           1                                         \n",
      "Covariance Type:            nonrobust                                         \n",
      "==============================================================================\n",
      "                 coef    std err          t      P>|t|      [0.025      0.975]\n",
      "------------------------------------------------------------------------------\n",
      "const          0.1632      1.064      0.153      0.879      -1.966       2.293\n",
      "Excess_MKT     1.0603      0.190      5.590      0.000       0.681       1.440\n",
      "==============================================================================\n",
      "Omnibus:                       18.479   Durbin-Watson:                   1.530\n",
      "Prob(Omnibus):                  0.000   Jarque-Bera (JB):               26.331\n",
      "Skew:                           1.132   Prob(JB):                     1.92e-06\n",
      "Kurtosis:                       5.325   Cond. No.                         5.65\n",
      "==============================================================================\n",
      "\n",
      "Notes:\n",
      "[1] Standard Errors assume that the covariance matrix of the errors is correctly specified.\n"
     ]
    },
    {
     "data": {
      "text/plain": [
       "(None,\n",
       " <class 'statsmodels.iolib.summary.Summary'>\n",
       " \"\"\"\n",
       "                             OLS Regression Results                            \n",
       " ==============================================================================\n",
       " Dep. Variable:             Excess_DRI   R-squared:                       0.394\n",
       " Model:                            OLS   Adj. R-squared:                  0.383\n",
       " Method:                 Least Squares   F-statistic:                     37.68\n",
       " Date:                Tue, 30 Apr 2024   Prob (F-statistic):           8.05e-08\n",
       " Time:                        01:55:51   Log-Likelihood:                -211.51\n",
       " No. Observations:                  60   AIC:                             427.0\n",
       " Df Residuals:                      58   BIC:                             431.2\n",
       " Df Model:                           1                                         \n",
       " Covariance Type:            nonrobust                                         \n",
       " ==============================================================================\n",
       "                  coef    std err          t      P>|t|      [0.025      0.975]\n",
       " ------------------------------------------------------------------------------\n",
       " const          0.5474      1.086      0.504      0.616      -1.627       2.722\n",
       " Excess_MKT     1.1888      0.194      6.138      0.000       0.801       1.576\n",
       " ==============================================================================\n",
       " Omnibus:                        6.263   Durbin-Watson:                   2.689\n",
       " Prob(Omnibus):                  0.044   Jarque-Bera (JB):               10.109\n",
       " Skew:                          -0.037   Prob(JB):                      0.00638\n",
       " Kurtosis:                       5.009   Cond. No.                         5.65\n",
       " ==============================================================================\n",
       " \n",
       " Notes:\n",
       " [1] Standard Errors assume that the covariance matrix of the errors is correctly specified.\n",
       " \"\"\")"
      ]
     },
     "execution_count": 9,
     "metadata": {},
     "output_type": "execute_result"
    }
   ],
   "source": [
    "import statsmodels.api as sm\n",
    "\n",
    "# Prepare the regression data\n",
    "X = sm.add_constant(data['Excess_MKT'])  # market excess returns as independent variable\n",
    "Y_xom = data['Excess_XOM']              # Exxon's excess returns as dependent variable\n",
    "Y_dri = data['Excess_DRI']              # Darden's excess returns as dependent variable\n",
    "\n",
    "# Run the regression for Exxon\n",
    "model_xom = sm.OLS(Y_xom, X).fit()\n",
    "\n",
    "# Run the regression for Darden\n",
    "model_dri = sm.OLS(Y_dri, X).fit()\n",
    "\n",
    "# Get summary of the models\n",
    "model_xom_summary = model_xom.summary()\n",
    "model_dri_summary = model_dri.summary()\n",
    "\n",
    "print(model_xom_summary), (model_dri_summary)\n"
   ]
  },
  {
   "cell_type": "code",
   "execution_count": 10,
   "id": "2d65445a",
   "metadata": {},
   "outputs": [
    {
     "name": "stdout",
     "output_type": "stream",
     "text": [
      "[0.52905987 0.47094013]\n"
     ]
    },
    {
     "data": {
      "text/plain": [
       "(None, 1.174889225677219)"
      ]
     },
     "execution_count": 10,
     "metadata": {},
     "output_type": "execute_result"
    }
   ],
   "source": [
    "from scipy.optimize import minimize\n",
    "\n",
    "# Convert the annual target standard deviation to a monthly standard deviation\n",
    "monthly_target_std_dev = annual_target_std_dev / np.sqrt(12) / 100  # convert percentage to decimal\n",
    "\n",
    "# Define the function to calculate the portfolio standard deviation\n",
    "def portfolio_std_dev(weights, std_dev_xom, std_dev_dri, correlation):\n",
    "    w_xom, w_dri = weights\n",
    "    w_rf = 1 - w_xom - w_dri\n",
    "    # Compute the portfolio standard deviation\n",
    "    return np.sqrt((w_xom * std_dev_xom) ** 2 + (w_dri * std_dev_dri) ** 2 + \n",
    "                   2 * w_xom * w_dri * std_dev_xom * std_dev_dri * correlation)\n",
    "\n",
    "# Define the objective function (negative of the portfolio's return to minimize)\n",
    "def negative_portfolio_return(weights, avg_ret_xom, avg_ret_dri, rf_rate):\n",
    "    w_xom, w_dri = weights\n",
    "    w_rf = 1 - w_xom - w_dri\n",
    "    return -(w_xom * avg_ret_xom + w_dri * avg_ret_dri + w_rf * rf_rate)\n",
    "\n",
    "# Constraints (portfolio standard deviation equal to target, sum of weights equal to 1)\n",
    "constraints = [\n",
    "    {'type': 'eq', 'fun': lambda weights: portfolio_std_dev(weights, std_dev_xom, std_dev_dri, correlation_xom_dri) - monthly_target_std_dev},\n",
    "    {'type': 'eq', 'fun': lambda weights: sum(weights) - 1}\n",
    "]\n",
    "\n",
    "# Bounds for weights (no short selling, weights between 0 and 1)\n",
    "bounds = [(0, 1), (0, 1)]\n",
    "\n",
    "# Initial guess (equally distributed weights)\n",
    "initial_guess = [0.5, 0.5]\n",
    "\n",
    "# Run the optimizer\n",
    "result = minimize(negative_portfolio_return, initial_guess, args=(average_xom, average_dri, average_rf),\n",
    "                  constraints=constraints, bounds=bounds, method='SLSQP')\n",
    "\n",
    "print(result.x), (-result.fun)\n"
   ]
  },
  {
   "cell_type": "code",
   "execution_count": null,
   "id": "5ebb2f6f",
   "metadata": {},
   "outputs": [],
   "source": []
  }
 ],
 "metadata": {
  "kernelspec": {
   "display_name": "Python 3 (ipykernel)",
   "language": "python",
   "name": "python3"
  },
  "language_info": {
   "codemirror_mode": {
    "name": "ipython",
    "version": 3
   },
   "file_extension": ".py",
   "mimetype": "text/x-python",
   "name": "python",
   "nbconvert_exporter": "python",
   "pygments_lexer": "ipython3",
   "version": "3.11.5"
  }
 },
 "nbformat": 4,
 "nbformat_minor": 5
}
